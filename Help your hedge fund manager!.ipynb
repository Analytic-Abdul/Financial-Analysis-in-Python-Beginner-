{
 "cells": [
  {
   "cell_type": "markdown",
   "id": "b6bb71db-d177-4226-a70e-f1340d7c5a3a",
   "metadata": {},
   "source": [
    "## Help our hedge fund manager!\n",
    "\n",
    "We have two datasets at our disposal: `Balance_Sheet.xlsx` and `Income_Statement.xlsx`. Both these datasets have three columns in common:\n",
    "- `\"Company\"`: The company's stock-ticker name.\n",
    "- `\"comp_type\"`: The type of industry the company in question belongs to. It is either `\"tech\"` for companies in the technology industry, `\"fmcg\"` for companies in the fast-moving consumer goods industry, and `\"real_est\"` for companies in the real estate industry. \n",
    "- `\"Year\"`: The year the company's information is from.\n",
    "\n",
    "The rest of the columns in the datasets contain information from the financial statements of the `\"Company\"` in question. Note that the columns in `Balance_Sheet.xlsx` only contain financial information from the balance sheet. Similarly, the columns in `Income_Statement.xlsx` only contain financial information from the income statement. The columns are named accordingly. For instance, the column `\"Total Liab\"` from `Balance_Sheet.xlsx` represents the total liabilities, and so on.\n",
    "\n",
    "In this project, we will analyze these datasets to uncover key financial insights that can aid our hedge fund manager in making informed investment decisions. By merging and exploring the data, we aim to identify trends, assess financial health, and evaluate performance across different industries. Our goal is to provide actionable recommendations that align with the fund's investment strategy, ensuring a competitive edge in the market. Let’s dive in!"
   ]
  },
  {
   "cell_type": "markdown",
   "id": "c47ca83a",
   "metadata": {},
   "source": [
    "### Install the necessary dependencies in your environment's terminal.\n",
    "- `!pip install pandas`\n",
    "- `!pip install matplotlib`\n",
    "- `!pip install seaborn`\n",
    "- `!pip install numpy`\n",
    "- `!pip install openpyxl`\n"
   ]
  },
  {
   "cell_type": "markdown",
   "id": "a44d5430",
   "metadata": {},
   "source": [
    "### Import the necessary libraries"
   ]
  },
  {
   "cell_type": "code",
   "execution_count": 4,
   "id": "55d2a777-02c9-4448-8ecf-bff17c2e2aa1",
   "metadata": {
    "executionCancelledAt": null,
    "executionTime": 10,
    "lastExecutedAt": 1736840985746,
    "lastExecutedByKernel": "89113c20-eaa7-4f96-aff6-bc243c7e487c",
    "lastScheduledRunId": null,
    "lastSuccessfullyExecutedCode": "# Import the necessary libraries\nimport numpy as np\nimport pandas as pd\nimport matplotlib as plt\nimport seaborn as sns",
    "outputsMetadata": {
     "0": {
      "height": 211,
      "type": "stream"
     }
    }
   },
   "outputs": [],
   "source": [
    "# Import the necessary libraries\n",
    "import numpy as np\n",
    "import pandas as pd\n",
    "import matplotlib.pyplot as plt\n",
    "import seaborn as sns"
   ]
  },
  {
   "cell_type": "markdown",
   "id": "2fe12051",
   "metadata": {},
   "source": [
    "## Importing the data using pandas"
   ]
  },
  {
   "cell_type": "code",
   "execution_count": 5,
   "id": "0552ecaa-b59a-40d7-90f3-9f088ce16f3b",
   "metadata": {
    "collapsed": true,
    "executionCancelledAt": null,
    "executionTime": 91,
    "jupyter": {
     "outputs_hidden": true,
     "source_hidden": false
    },
    "lastExecutedAt": 1736840985837,
    "lastExecutedByKernel": "89113c20-eaa7-4f96-aff6-bc243c7e487c",
    "lastScheduledRunId": null,
    "lastSuccessfullyExecutedCode": "# Importing the data\nbalance_sheet = pd.read_excel(\"data/Balance_Sheet.xlsx\")\nincome_stmnt = pd.read_excel(\"data/Income_Statement.xlsx\")\nprint(balance_sheet.info())\nbalance_sheet.head()\nprint(income_stmnt.info())\nincome_stmnt.head()",
    "outputsMetadata": {
     "0": {
      "height": 616,
      "type": "stream"
     },
     "1": {
      "height": 50,
      "tableState": {
       "columnVisibility": {
        "hiddenColIds": []
       },
       "customFilter": {
        "const": {
         "type": "boolean",
         "valid": true,
         "value": true
        },
        "id": "c672ff57-b219-46f4-be14-9c4bacd110f9",
        "nodeType": "const"
       },
       "quickFilterText": ""
      },
      "type": "dataFrame"
     }
    }
   },
   "outputs": [
    {
     "name": "stdout",
     "output_type": "stream",
     "text": [
      "<class 'pandas.core.frame.DataFrame'>\n",
      "RangeIndex: 60 entries, 0 to 59\n",
      "Data columns (total 14 columns):\n",
      " #   Column                     Non-Null Count  Dtype  \n",
      "---  ------                     --------------  -----  \n",
      " 0   Unnamed: 0                 60 non-null     int64  \n",
      " 1   Year                       60 non-null     int64  \n",
      " 2   comp_type                  60 non-null     object \n",
      " 3   company                    60 non-null     object \n",
      " 4   Accounts Payable           60 non-null     int64  \n",
      " 5   Cash                       60 non-null     int64  \n",
      " 6   Inventory                  44 non-null     float64\n",
      " 7   Property Plant Equipment   60 non-null     int64  \n",
      " 8   Short Term Investments     37 non-null     float64\n",
      " 9   Total Assets               60 non-null     int64  \n",
      " 10  Total Current Assets       60 non-null     int64  \n",
      " 11  Total Current Liabilities  60 non-null     int64  \n",
      " 12  Total Liab                 60 non-null     int64  \n",
      " 13  Total Stockholder Equity   60 non-null     int64  \n",
      "dtypes: float64(2), int64(10), object(2)\n",
      "memory usage: 6.7+ KB\n",
      "None\n",
      "   Unnamed: 0  Year comp_type company  Accounts Payable         Cash  \\\n",
      "0           0  2019      tech    AAPL       46236000000  48844000000   \n",
      "1           1  2020      tech    AAPL       42296000000  38016000000   \n",
      "2           2  2021      tech    AAPL       54763000000  34940000000   \n",
      "3           3  2022      tech    AAPL       64115000000  23646000000   \n",
      "4           4  2019      tech    MSFT        9382000000  11356000000   \n",
      "\n",
      "      Inventory  Property Plant Equipment  Short Term Investments  \\\n",
      "0  4.106000e+09               37378000000            5.171300e+10   \n",
      "1  4.061000e+09               45336000000            5.292700e+10   \n",
      "2  6.580000e+09               49527000000            2.769900e+10   \n",
      "3  4.946000e+09               84234000000            2.465800e+10   \n",
      "4  2.063000e+09               43856000000            1.224760e+11   \n",
      "\n",
      "   Total Assets  Total Current Assets  Total Current Liabilities  \\\n",
      "0  338516000000          162819000000               105718000000   \n",
      "1  323888000000          143713000000               105392000000   \n",
      "2  351002000000          134836000000               125481000000   \n",
      "3  352755000000          135405000000               153982000000   \n",
      "4  286556000000          175552000000                69420000000   \n",
      "\n",
      "     Total Liab  Total Stockholder Equity  \n",
      "0  248028000000               90488000000  \n",
      "1  258549000000               65339000000  \n",
      "2  287912000000               63090000000  \n",
      "3  302083000000               50672000000  \n",
      "4  184226000000              102330000000  \n",
      "#--##---###########----####################---##########---#################\n",
      "<class 'pandas.core.frame.DataFrame'>\n",
      "RangeIndex: 60 entries, 0 to 59\n",
      "Data columns (total 9 columns):\n",
      " #   Column                    Non-Null Count  Dtype \n",
      "---  ------                    --------------  ----- \n",
      " 0   Unnamed: 0                60 non-null     int64 \n",
      " 1   Year                      60 non-null     int64 \n",
      " 2   comp_type                 60 non-null     object\n",
      " 3   company                   60 non-null     object\n",
      " 4   Cost Of Goods Sold        60 non-null     int64 \n",
      " 5   Gross Profit              60 non-null     int64 \n",
      " 6   Operating Income          60 non-null     int64 \n",
      " 7   Total Operating Expenses  60 non-null     int64 \n",
      " 8   Total Revenue             60 non-null     int64 \n",
      "dtypes: int64(7), object(2)\n",
      "memory usage: 4.3+ KB\n",
      "None\n",
      "   Unnamed: 0  Year comp_type company  Cost Of Goods Sold  Gross Profit  \\\n",
      "0           0  2019      tech    AAPL        161782000000   98392000000   \n",
      "1           1  2020      tech    AAPL        169559000000  104956000000   \n",
      "2           2  2021      tech    AAPL        212981000000  152836000000   \n",
      "3           3  2022      tech    AAPL        223546000000  170782000000   \n",
      "4           4  2019      tech    MSFT         42910000000   82933000000   \n",
      "\n",
      "   Operating Income  Total Operating Expenses  Total Revenue  \n",
      "0       63930000000              196244000000   260174000000  \n",
      "1       66288000000              208227000000   274515000000  \n",
      "2      108949000000              256868000000   365817000000  \n",
      "3      119437000000              274891000000   394328000000  \n",
      "4       42959000000               82884000000   125843000000  \n"
     ]
    }
   ],
   "source": [
    "# Importing the data using relative path in the current working directory using pandas\n",
    "balance_sheet = pd.read_excel(\"data/Balance_Sheet.xlsx\")\n",
    "income_stmnt = pd.read_excel(\"data/Income_Statement.xlsx\")\n",
    "print(balance_sheet.info())\n",
    "print(balance_sheet.head())\n",
    "print(\"#--##---###########----####################---##########---#################\")\n",
    "print(income_stmnt.info())\n",
    "print(income_stmnt.head())"
   ]
  },
  {
   "cell_type": "code",
   "execution_count": 6,
   "id": "54286d48-fe9a-41d1-aaac-eaf38444c9dd",
   "metadata": {
    "collapsed": false,
    "executionCancelledAt": null,
    "executionTime": 49,
    "jupyter": {
     "outputs_hidden": false,
     "source_hidden": false
    },
    "lastExecutedAt": 1736840985886,
    "lastExecutedByKernel": "89113c20-eaa7-4f96-aff6-bc243c7e487c",
    "lastScheduledRunId": null,
    "lastSuccessfullyExecutedCode": "# Dropping Unnamed: 0 from balance sheet dataset\nprint(balance_sheet.columns.tolist())\nprint(\"--------------------\")\nbalance_sheet.drop(columns=[\"Unnamed: 0\"], axis=1, inplace=True)\nbalance_sheet.head()\nprint(balance_sheet.columns.tolist())",
    "outputsMetadata": {
     "0": {
      "height": 164,
      "type": "stream"
     },
     "1": {
      "height": 50,
      "tableState": {
       "customFilter": {
        "const": {
         "type": "boolean",
         "valid": true,
         "value": true
        },
        "id": "c672ff57-b219-46f4-be14-9c4bacd110f9",
        "nodeType": "const"
       },
       "quickFilterText": ""
      },
      "type": "dataFrame"
     }
    }
   },
   "outputs": [
    {
     "name": "stdout",
     "output_type": "stream",
     "text": [
      "['Unnamed: 0', 'Year', 'comp_type', 'company', 'Accounts Payable', 'Cash', 'Inventory', 'Property Plant Equipment', 'Short Term Investments', 'Total Assets', 'Total Current Assets', 'Total Current Liabilities', 'Total Liab', 'Total Stockholder Equity']\n",
      "--------------------\n",
      "['Year', 'comp_type', 'company', 'Accounts Payable', 'Cash', 'Inventory', 'Property Plant Equipment', 'Short Term Investments', 'Total Assets', 'Total Current Assets', 'Total Current Liabilities', 'Total Liab', 'Total Stockholder Equity']\n"
     ]
    }
   ],
   "source": [
    "# Dropping Unnamed: 0 from balance sheet dataset\n",
    "print(balance_sheet.columns.tolist())\n",
    "print(\"--------------------\")\n",
    "balance_sheet.drop(columns=[\"Unnamed: 0\"], axis=1, inplace=True)\n",
    "balance_sheet.head()\n",
    "print(balance_sheet.columns.tolist())"
   ]
  },
  {
   "cell_type": "code",
   "execution_count": 7,
   "id": "b1d61d08",
   "metadata": {},
   "outputs": [
    {
     "name": "stdout",
     "output_type": "stream",
     "text": [
      "['Unnamed: 0', 'Year', 'comp_type', 'company', 'Cost Of Goods Sold', 'Gross Profit', 'Operating Income', 'Total Operating Expenses', 'Total Revenue']\n",
      "--------------------\n",
      "['Year', 'comp_type', 'company', 'Cost Of Goods Sold', 'Gross Profit', 'Operating Income', 'Total Operating Expenses', 'Total Revenue']\n",
      "--------------------\n"
     ]
    }
   ],
   "source": [
    "# Dropping Unnamed: 0 from income statement dataset\n",
    "print(income_stmnt.columns.tolist())\n",
    "print(\"--------------------\")\n",
    "income_stmnt.drop(columns=[\"Unnamed: 0\"], axis=1, inplace=True)\n",
    "income_stmnt.head()\n",
    "print(income_stmnt.columns.tolist())\n",
    "print(\"--------------------\")"
   ]
  },
  {
   "cell_type": "code",
   "execution_count": 8,
   "id": "1313e713-9ea5-4813-b5fe-4e8b30dfc30f",
   "metadata": {
    "collapsed": false,
    "executionCancelledAt": null,
    "executionTime": 52,
    "jupyter": {
     "outputs_hidden": false,
     "source_hidden": false
    },
    "lastExecutedAt": 1736840985938,
    "lastExecutedByKernel": "89113c20-eaa7-4f96-aff6-bc243c7e487c",
    "lastScheduledRunId": null,
    "lastSuccessfullyExecutedCode": "# Merging the Balance sheet and Income statment into 1 table\ndf_ratios = pd.merge(balance_sheet,income_stmnt, on=[\"Year\",\"comp_type\",\"company\"])\nprint(df_ratios.columns.tolist())\nprint(df_ratios.info())\n\n# Dropping the \"Unnamed: 0\" column \ndf_ratios = df_ratios.drop(columns = [\"Unnamed: 0\"],axis= 1)\nprint(\"----------------------------\")\nprint(df_ratios.info())",
    "outputsMetadata": {
     "0": {
      "height": 616,
      "type": "stream"
     }
    }
   },
   "outputs": [
    {
     "name": "stdout",
     "output_type": "stream",
     "text": [
      "<class 'pandas.core.frame.DataFrame'>\n",
      "RangeIndex: 60 entries, 0 to 59\n",
      "Data columns (total 18 columns):\n",
      " #   Column                     Non-Null Count  Dtype  \n",
      "---  ------                     --------------  -----  \n",
      " 0   Year                       60 non-null     int64  \n",
      " 1   comp_type                  60 non-null     object \n",
      " 2   company                    60 non-null     object \n",
      " 3   Accounts Payable           60 non-null     int64  \n",
      " 4   Cash                       60 non-null     int64  \n",
      " 5   Inventory                  44 non-null     float64\n",
      " 6   Property Plant Equipment   60 non-null     int64  \n",
      " 7   Short Term Investments     37 non-null     float64\n",
      " 8   Total Assets               60 non-null     int64  \n",
      " 9   Total Current Assets       60 non-null     int64  \n",
      " 10  Total Current Liabilities  60 non-null     int64  \n",
      " 11  Total Liab                 60 non-null     int64  \n",
      " 12  Total Stockholder Equity   60 non-null     int64  \n",
      " 13  Cost Of Goods Sold         60 non-null     int64  \n",
      " 14  Gross Profit               60 non-null     int64  \n",
      " 15  Operating Income           60 non-null     int64  \n",
      " 16  Total Operating Expenses   60 non-null     int64  \n",
      " 17  Total Revenue              60 non-null     int64  \n",
      "dtypes: float64(2), int64(14), object(2)\n",
      "memory usage: 8.6+ KB\n",
      "None\n",
      "--------------------\n"
     ]
    }
   ],
   "source": [
    "# Merging the Balance sheet and Income statment into 1 table\n",
    "df_ratios = pd.merge(balance_sheet,income_stmnt, on=[\"Year\",\"comp_type\",\"company\"])\n",
    "print(df_ratios.info())\n",
    "print(\"--------------------\")"
   ]
  },
  {
   "cell_type": "code",
   "execution_count": 9,
   "id": "5d763142-18cd-4341-aed3-781fd838ab8a",
   "metadata": {
    "collapsed": true,
    "executionCancelledAt": null,
    "executionTime": 49,
    "jupyter": {
     "outputs_hidden": true,
     "source_hidden": false
    },
    "lastExecutedAt": 1736840985987,
    "lastExecutedByKernel": "89113c20-eaa7-4f96-aff6-bc243c7e487c",
    "lastScheduledRunId": null,
    "lastSuccessfullyExecutedCode": "# Computing debt-to-equity ratio\ndf_ratios[\"leverage_ratio\"] = df_ratios[\"Total Assets\"]/df_ratios[\"Total Stockholder Equity\"]\ndf_ratios.info()",
    "outputsMetadata": {
     "0": {
      "height": 563,
      "type": "stream"
     }
    }
   },
   "outputs": [
    {
     "name": "stdout",
     "output_type": "stream",
     "text": [
      "<class 'pandas.core.frame.DataFrame'>\n",
      "RangeIndex: 60 entries, 0 to 59\n",
      "Data columns (total 19 columns):\n",
      " #   Column                     Non-Null Count  Dtype  \n",
      "---  ------                     --------------  -----  \n",
      " 0   Year                       60 non-null     int64  \n",
      " 1   comp_type                  60 non-null     object \n",
      " 2   company                    60 non-null     object \n",
      " 3   Accounts Payable           60 non-null     int64  \n",
      " 4   Cash                       60 non-null     int64  \n",
      " 5   Inventory                  44 non-null     float64\n",
      " 6   Property Plant Equipment   60 non-null     int64  \n",
      " 7   Short Term Investments     37 non-null     float64\n",
      " 8   Total Assets               60 non-null     int64  \n",
      " 9   Total Current Assets       60 non-null     int64  \n",
      " 10  Total Current Liabilities  60 non-null     int64  \n",
      " 11  Total Liab                 60 non-null     int64  \n",
      " 12  Total Stockholder Equity   60 non-null     int64  \n",
      " 13  Cost Of Goods Sold         60 non-null     int64  \n",
      " 14  Gross Profit               60 non-null     int64  \n",
      " 15  Operating Income           60 non-null     int64  \n",
      " 16  Total Operating Expenses   60 non-null     int64  \n",
      " 17  Total Revenue              60 non-null     int64  \n",
      " 18  leverage_ratio             60 non-null     float64\n",
      "dtypes: float64(3), int64(14), object(2)\n",
      "memory usage: 9.0+ KB\n"
     ]
    }
   ],
   "source": [
    "# Computing debt-to-equity ratio as leverage_ratio\n",
    "df_ratios[\"leverage_ratio\"] = df_ratios[\"Total Assets\"]/df_ratios[\"Total Stockholder Equity\"]\n",
    "df_ratios.info()"
   ]
  },
  {
   "cell_type": "code",
   "execution_count": 10,
   "id": "29f7ded7-f197-4b03-b36b-d297fdb555de",
   "metadata": {
    "collapsed": false,
    "executionCancelledAt": null,
    "executionTime": 51,
    "jupyter": {
     "outputs_hidden": false,
     "source_hidden": false
    },
    "lastExecutedAt": 1736840986039,
    "lastExecutedByKernel": "89113c20-eaa7-4f96-aff6-bc243c7e487c",
    "lastScheduledRunId": null,
    "lastSuccessfullyExecutedCode": "# Computing gross_margin \ndf_ratios[\"profitability_ratio\"] = (df_ratios[\"Total Revenue\"]-df_ratios[\"Cost Of Goods Sold\"])/df_ratios[\"Total Revenue\"]\ndf_ratios.info()\ndf_ratios.head()",
    "outputsMetadata": {
     "0": {
      "height": 584,
      "type": "stream"
     },
     "1": {
      "height": 50,
      "tableState": {
       "customFilter": {
        "const": {
         "type": "boolean",
         "valid": true,
         "value": true
        },
        "id": "56d090ee-34d1-4814-81da-da70a06bfede",
        "nodeType": "const"
       },
       "quickFilterText": ""
      },
      "type": "dataFrame"
     }
    }
   },
   "outputs": [
    {
     "name": "stdout",
     "output_type": "stream",
     "text": [
      "<class 'pandas.core.frame.DataFrame'>\n",
      "RangeIndex: 60 entries, 0 to 59\n",
      "Data columns (total 20 columns):\n",
      " #   Column                     Non-Null Count  Dtype  \n",
      "---  ------                     --------------  -----  \n",
      " 0   Year                       60 non-null     int64  \n",
      " 1   comp_type                  60 non-null     object \n",
      " 2   company                    60 non-null     object \n",
      " 3   Accounts Payable           60 non-null     int64  \n",
      " 4   Cash                       60 non-null     int64  \n",
      " 5   Inventory                  44 non-null     float64\n",
      " 6   Property Plant Equipment   60 non-null     int64  \n",
      " 7   Short Term Investments     37 non-null     float64\n",
      " 8   Total Assets               60 non-null     int64  \n",
      " 9   Total Current Assets       60 non-null     int64  \n",
      " 10  Total Current Liabilities  60 non-null     int64  \n",
      " 11  Total Liab                 60 non-null     int64  \n",
      " 12  Total Stockholder Equity   60 non-null     int64  \n",
      " 13  Cost Of Goods Sold         60 non-null     int64  \n",
      " 14  Gross Profit               60 non-null     int64  \n",
      " 15  Operating Income           60 non-null     int64  \n",
      " 16  Total Operating Expenses   60 non-null     int64  \n",
      " 17  Total Revenue              60 non-null     int64  \n",
      " 18  leverage_ratio             60 non-null     float64\n",
      " 19  profitability_ratio        60 non-null     float64\n",
      "dtypes: float64(4), int64(14), object(2)\n",
      "memory usage: 9.5+ KB\n"
     ]
    },
    {
     "data": {
      "text/html": [
       "<div>\n",
       "<style scoped>\n",
       "    .dataframe tbody tr th:only-of-type {\n",
       "        vertical-align: middle;\n",
       "    }\n",
       "\n",
       "    .dataframe tbody tr th {\n",
       "        vertical-align: top;\n",
       "    }\n",
       "\n",
       "    .dataframe thead th {\n",
       "        text-align: right;\n",
       "    }\n",
       "</style>\n",
       "<table border=\"1\" class=\"dataframe\">\n",
       "  <thead>\n",
       "    <tr style=\"text-align: right;\">\n",
       "      <th></th>\n",
       "      <th>Year</th>\n",
       "      <th>comp_type</th>\n",
       "      <th>company</th>\n",
       "      <th>Accounts Payable</th>\n",
       "      <th>Cash</th>\n",
       "      <th>Inventory</th>\n",
       "      <th>Property Plant Equipment</th>\n",
       "      <th>Short Term Investments</th>\n",
       "      <th>Total Assets</th>\n",
       "      <th>Total Current Assets</th>\n",
       "      <th>Total Current Liabilities</th>\n",
       "      <th>Total Liab</th>\n",
       "      <th>Total Stockholder Equity</th>\n",
       "      <th>Cost Of Goods Sold</th>\n",
       "      <th>Gross Profit</th>\n",
       "      <th>Operating Income</th>\n",
       "      <th>Total Operating Expenses</th>\n",
       "      <th>Total Revenue</th>\n",
       "      <th>leverage_ratio</th>\n",
       "      <th>profitability_ratio</th>\n",
       "    </tr>\n",
       "  </thead>\n",
       "  <tbody>\n",
       "    <tr>\n",
       "      <th>0</th>\n",
       "      <td>2019</td>\n",
       "      <td>tech</td>\n",
       "      <td>AAPL</td>\n",
       "      <td>46236000000</td>\n",
       "      <td>48844000000</td>\n",
       "      <td>4.106000e+09</td>\n",
       "      <td>37378000000</td>\n",
       "      <td>5.171300e+10</td>\n",
       "      <td>338516000000</td>\n",
       "      <td>162819000000</td>\n",
       "      <td>105718000000</td>\n",
       "      <td>248028000000</td>\n",
       "      <td>90488000000</td>\n",
       "      <td>161782000000</td>\n",
       "      <td>98392000000</td>\n",
       "      <td>63930000000</td>\n",
       "      <td>196244000000</td>\n",
       "      <td>260174000000</td>\n",
       "      <td>3.741004</td>\n",
       "      <td>0.378178</td>\n",
       "    </tr>\n",
       "    <tr>\n",
       "      <th>1</th>\n",
       "      <td>2020</td>\n",
       "      <td>tech</td>\n",
       "      <td>AAPL</td>\n",
       "      <td>42296000000</td>\n",
       "      <td>38016000000</td>\n",
       "      <td>4.061000e+09</td>\n",
       "      <td>45336000000</td>\n",
       "      <td>5.292700e+10</td>\n",
       "      <td>323888000000</td>\n",
       "      <td>143713000000</td>\n",
       "      <td>105392000000</td>\n",
       "      <td>258549000000</td>\n",
       "      <td>65339000000</td>\n",
       "      <td>169559000000</td>\n",
       "      <td>104956000000</td>\n",
       "      <td>66288000000</td>\n",
       "      <td>208227000000</td>\n",
       "      <td>274515000000</td>\n",
       "      <td>4.957039</td>\n",
       "      <td>0.382332</td>\n",
       "    </tr>\n",
       "    <tr>\n",
       "      <th>2</th>\n",
       "      <td>2021</td>\n",
       "      <td>tech</td>\n",
       "      <td>AAPL</td>\n",
       "      <td>54763000000</td>\n",
       "      <td>34940000000</td>\n",
       "      <td>6.580000e+09</td>\n",
       "      <td>49527000000</td>\n",
       "      <td>2.769900e+10</td>\n",
       "      <td>351002000000</td>\n",
       "      <td>134836000000</td>\n",
       "      <td>125481000000</td>\n",
       "      <td>287912000000</td>\n",
       "      <td>63090000000</td>\n",
       "      <td>212981000000</td>\n",
       "      <td>152836000000</td>\n",
       "      <td>108949000000</td>\n",
       "      <td>256868000000</td>\n",
       "      <td>365817000000</td>\n",
       "      <td>5.563512</td>\n",
       "      <td>0.417794</td>\n",
       "    </tr>\n",
       "    <tr>\n",
       "      <th>3</th>\n",
       "      <td>2022</td>\n",
       "      <td>tech</td>\n",
       "      <td>AAPL</td>\n",
       "      <td>64115000000</td>\n",
       "      <td>23646000000</td>\n",
       "      <td>4.946000e+09</td>\n",
       "      <td>84234000000</td>\n",
       "      <td>2.465800e+10</td>\n",
       "      <td>352755000000</td>\n",
       "      <td>135405000000</td>\n",
       "      <td>153982000000</td>\n",
       "      <td>302083000000</td>\n",
       "      <td>50672000000</td>\n",
       "      <td>223546000000</td>\n",
       "      <td>170782000000</td>\n",
       "      <td>119437000000</td>\n",
       "      <td>274891000000</td>\n",
       "      <td>394328000000</td>\n",
       "      <td>6.961537</td>\n",
       "      <td>0.433096</td>\n",
       "    </tr>\n",
       "    <tr>\n",
       "      <th>4</th>\n",
       "      <td>2019</td>\n",
       "      <td>tech</td>\n",
       "      <td>MSFT</td>\n",
       "      <td>9382000000</td>\n",
       "      <td>11356000000</td>\n",
       "      <td>2.063000e+09</td>\n",
       "      <td>43856000000</td>\n",
       "      <td>1.224760e+11</td>\n",
       "      <td>286556000000</td>\n",
       "      <td>175552000000</td>\n",
       "      <td>69420000000</td>\n",
       "      <td>184226000000</td>\n",
       "      <td>102330000000</td>\n",
       "      <td>42910000000</td>\n",
       "      <td>82933000000</td>\n",
       "      <td>42959000000</td>\n",
       "      <td>82884000000</td>\n",
       "      <td>125843000000</td>\n",
       "      <td>2.800313</td>\n",
       "      <td>0.659020</td>\n",
       "    </tr>\n",
       "  </tbody>\n",
       "</table>\n",
       "</div>"
      ],
      "text/plain": [
       "   Year comp_type company  Accounts Payable         Cash     Inventory  \\\n",
       "0  2019      tech    AAPL       46236000000  48844000000  4.106000e+09   \n",
       "1  2020      tech    AAPL       42296000000  38016000000  4.061000e+09   \n",
       "2  2021      tech    AAPL       54763000000  34940000000  6.580000e+09   \n",
       "3  2022      tech    AAPL       64115000000  23646000000  4.946000e+09   \n",
       "4  2019      tech    MSFT        9382000000  11356000000  2.063000e+09   \n",
       "\n",
       "   Property Plant Equipment  Short Term Investments  Total Assets  \\\n",
       "0               37378000000            5.171300e+10  338516000000   \n",
       "1               45336000000            5.292700e+10  323888000000   \n",
       "2               49527000000            2.769900e+10  351002000000   \n",
       "3               84234000000            2.465800e+10  352755000000   \n",
       "4               43856000000            1.224760e+11  286556000000   \n",
       "\n",
       "   Total Current Assets  Total Current Liabilities    Total Liab  \\\n",
       "0          162819000000               105718000000  248028000000   \n",
       "1          143713000000               105392000000  258549000000   \n",
       "2          134836000000               125481000000  287912000000   \n",
       "3          135405000000               153982000000  302083000000   \n",
       "4          175552000000                69420000000  184226000000   \n",
       "\n",
       "   Total Stockholder Equity  Cost Of Goods Sold  Gross Profit  \\\n",
       "0               90488000000        161782000000   98392000000   \n",
       "1               65339000000        169559000000  104956000000   \n",
       "2               63090000000        212981000000  152836000000   \n",
       "3               50672000000        223546000000  170782000000   \n",
       "4              102330000000         42910000000   82933000000   \n",
       "\n",
       "   Operating Income  Total Operating Expenses  Total Revenue  leverage_ratio  \\\n",
       "0       63930000000              196244000000   260174000000        3.741004   \n",
       "1       66288000000              208227000000   274515000000        4.957039   \n",
       "2      108949000000              256868000000   365817000000        5.563512   \n",
       "3      119437000000              274891000000   394328000000        6.961537   \n",
       "4       42959000000               82884000000   125843000000        2.800313   \n",
       "\n",
       "   profitability_ratio  \n",
       "0             0.378178  \n",
       "1             0.382332  \n",
       "2             0.417794  \n",
       "3             0.433096  \n",
       "4             0.659020  "
      ]
     },
     "execution_count": 10,
     "metadata": {},
     "output_type": "execute_result"
    }
   ],
   "source": [
    "# Computing gross_margin as profitability_ratio\n",
    "df_ratios[\"profitability_ratio\"] = (df_ratios[\"Total Revenue\"]-df_ratios[\"Cost Of Goods Sold\"])/df_ratios[\"Total Revenue\"]\n",
    "df_ratios.info()\n",
    "df_ratios.head()"
   ]
  },
  {
   "cell_type": "code",
   "execution_count": 11,
   "id": "5b12af34-befb-4b8e-ae43-2cdfa302f558",
   "metadata": {
    "executionCancelledAt": null,
    "executionTime": 62,
    "lastExecutedAt": 1736840986101,
    "lastExecutedByKernel": "89113c20-eaa7-4f96-aff6-bc243c7e487c",
    "lastScheduledRunId": null,
    "lastSuccessfullyExecutedCode": "#Pivot_table vs Melt vs Groupby\npivot_table_data = df_ratios.pivot_table(index=[\"Year\",\"comp_type\",\"company\"], aggfunc=\"mean\")\nprint(pivot_table_data.head())\nprint(\"Pivot Data______________________\")\n\nmelted_data = df_ratios.melt(id_vars=[\"Year\",\"comp_type\",\"company\"], var_name=\"Parameter\", value_name=\"Amount\")\nprint(melted_data.head())\nprint(\"Melted Data______________________\")\n\ngrouped_data = df_ratios.groupby([\"Year\",\"comp_type\",\"company\"])[[\"leverage_ratio\", \"profitability_ratio\"]].mean().reset_index()\nprint(grouped_data.head())\nprint(\"Grouped Data______________________\")",
    "outputsMetadata": {
     "0": {
      "height": 521,
      "type": "stream"
     }
    }
   },
   "outputs": [
    {
     "name": "stdout",
     "output_type": "stream",
     "text": [
      "                        Accounts Payable          Cash  Cost Of Goods Sold  \\\n",
      "Year comp_type company                                                       \n",
      "2018 fmcg      KO           2.719000e+09  9.077000e+09        1.306700e+10   \n",
      "               NSRGY        1.304500e+10  4.500000e+09        4.607000e+10   \n",
      "               PEP          7.213000e+09  8.721000e+09        2.938100e+10   \n",
      "               UL           9.121000e+09  3.230000e+09        2.870300e+10   \n",
      "     real_est  AMT          1.308000e+08  1.208700e+09        2.177800e+09   \n",
      "\n",
      "                        Gross Profit     Inventory  Operating Income  \\\n",
      "Year comp_type company                                                 \n",
      "2018 fmcg      KO       2.123300e+10  3.071000e+09      1.020300e+10   \n",
      "               NSRGY    4.568000e+10  9.125000e+09      1.534000e+10   \n",
      "               PEP      3.528000e+10  3.128000e+09      1.037600e+10   \n",
      "               UL       2.227900e+10  4.301000e+09      9.329000e+09   \n",
      "     real_est  AMT      5.262300e+09           NaN      2.742300e+09   \n",
      "\n",
      "                        Property Plant Equipment  Short Term Investments  \\\n",
      "Year comp_type company                                                     \n",
      "2018 fmcg      KO                   9.598000e+09            7.038000e+09   \n",
      "               NSRGY                2.995600e+10            5.801000e+09   \n",
      "               PEP                  1.758900e+10            2.720000e+08   \n",
      "               UL                   1.208800e+10            8.350000e+08   \n",
      "     real_est  AMT                  1.124710e+10                     NaN   \n",
      "\n",
      "                        Total Assets  Total Current Assets  \\\n",
      "Year comp_type company                                       \n",
      "2018 fmcg      KO       8.321600e+10          2.493000e+10   \n",
      "               NSRGY    1.370150e+11          4.100300e+10   \n",
      "               PEP      7.764800e+10          2.189300e+10   \n",
      "               UL       6.111100e+10          1.547800e+10   \n",
      "     real_est  AMT      3.301040e+10          2.385100e+09   \n",
      "\n",
      "                        Total Current Liabilities    Total Liab  \\\n",
      "Year comp_type company                                            \n",
      "2018 fmcg      KO                    2.878200e+10  6.415800e+10   \n",
      "               NSRGY                 4.303000e+10  7.861200e+10   \n",
      "               PEP                   2.213800e+10  6.304600e+10   \n",
      "               UL                    2.015000e+10  4.899400e+10   \n",
      "     real_est  AMT                   4.689900e+09  2.610600e+10   \n",
      "\n",
      "                        Total Operating Expenses  Total Revenue  \\\n",
      "Year comp_type company                                            \n",
      "2018 fmcg      KO                   2.409700e+10   3.430000e+10   \n",
      "               NSRGY                7.641000e+10   9.175000e+10   \n",
      "               PEP                  5.428500e+10   6.466100e+10   \n",
      "               UL                   4.165300e+10   5.098200e+10   \n",
      "     real_est  AMT                  4.697800e+09   7.440100e+09   \n",
      "\n",
      "                        Total Stockholder Equity  leverage_ratio  \\\n",
      "Year comp_type company                                             \n",
      "2018 fmcg      KO                   1.698100e+10        4.900536   \n",
      "               NSRGY                5.736300e+10        2.388561   \n",
      "               PEP                  1.451800e+10        5.348395   \n",
      "               UL                   1.139700e+10        5.362025   \n",
      "     real_est  AMT                  5.336100e+09        6.186241   \n",
      "\n",
      "                        profitability_ratio  \n",
      "Year comp_type company                       \n",
      "2018 fmcg      KO                  0.619038  \n",
      "               NSRGY               0.497875  \n",
      "               PEP                 0.545615  \n",
      "               UL                  0.436997  \n",
      "     real_est  AMT                 0.707289  \n",
      "Pivot Data______________________\n",
      "   Year comp_type company         Parameter        Amount\n",
      "0  2019      tech    AAPL  Accounts Payable  4.623600e+10\n",
      "1  2020      tech    AAPL  Accounts Payable  4.229600e+10\n",
      "2  2021      tech    AAPL  Accounts Payable  5.476300e+10\n",
      "3  2022      tech    AAPL  Accounts Payable  6.411500e+10\n",
      "4  2019      tech    MSFT  Accounts Payable  9.382000e+09\n",
      "Melted Data______________________\n",
      "   Year comp_type company  leverage_ratio  profitability_ratio\n",
      "0  2018      fmcg      KO        4.900536             0.619038\n",
      "1  2018      fmcg   NSRGY        2.388561             0.497875\n",
      "2  2018      fmcg     PEP        5.348395             0.545615\n",
      "3  2018      fmcg      UL        5.362025             0.436997\n",
      "4  2018  real_est     AMT        6.186241             0.707289\n",
      "Grouped Data______________________\n"
     ]
    }
   ],
   "source": [
    "#Pivot_table vs Melt vs Groupby\n",
    "pivot_table_data = df_ratios.pivot_table(index=[\"Year\",\"comp_type\",\"company\"], aggfunc=\"mean\")\n",
    "print(pivot_table_data.head())\n",
    "print(\"Pivot Data______________________\")\n",
    "\n",
    "melted_data = df_ratios.melt(id_vars=[\"Year\",\"comp_type\",\"company\"], var_name=\"Parameter\", value_name=\"Amount\")\n",
    "print(melted_data.head())\n",
    "print(\"Melted Data______________________\")\n",
    "\n",
    "grouped_data = df_ratios.groupby([\"Year\",\"comp_type\",\"company\"])[[\"leverage_ratio\", \"profitability_ratio\"]].mean().reset_index()\n",
    "print(grouped_data.head())\n",
    "print(\"Grouped Data______________________\")"
   ]
  },
  {
   "cell_type": "code",
   "execution_count": 12,
   "id": "7041bc6a-86e0-4f4d-b1c3-d1347d06f24b",
   "metadata": {
    "collapsed": false,
    "executionCancelledAt": null,
    "executionTime": 65,
    "jupyter": {
     "outputs_hidden": false,
     "source_hidden": false
    },
    "lastExecutedAt": 1736840986167,
    "lastExecutedByKernel": "89113c20-eaa7-4f96-aff6-bc243c7e487c",
    "lastScheduledRunId": null,
    "lastSuccessfullyExecutedCode": "# Calculate comp_type with the least profitability ratio\npivot_lowest_profitability = df_ratios.pivot_table(index=[\"Year\",\"comp_type\",\"company\"],values=[\"leverage_ratio\",\"profitability_ratio\"],aggfunc=\"mean\").reset_index()\n\nprint(pivot_lowest_profitability)\nprint(\"______________________________________\")\n\nlowest = pivot_table_data.sort_index(ascending=False).iloc[0,0]\nprint(lowest)",
    "outputsMetadata": {
     "0": {
      "height": 616,
      "type": "stream"
     }
    }
   },
   "outputs": [
    {
     "name": "stdout",
     "output_type": "stream",
     "text": [
      "    Year comp_type company  leverage_ratio  profitability_ratio\n",
      "0   2018      fmcg      KO        4.900536             0.619038\n",
      "1   2018      fmcg   NSRGY        2.388561             0.497875\n",
      "2   2018      fmcg     PEP        5.348395             0.545615\n",
      "3   2018      fmcg      UL        5.362025             0.436997\n",
      "4   2018  real_est     AMT        6.186241             0.707289\n",
      "5   2018  real_est     BAM        9.992631             0.221751\n",
      "6   2018  real_est     CCI        2.831389             0.656611\n",
      "7   2018  real_est     SPG        9.430502             0.821450\n",
      "8   2018  real_est      WY        1.906810             0.252006\n",
      "9   2018      tech    AMZN        3.734827             0.402474\n",
      "10  2018      tech    GOOG        1.310559             0.564761\n",
      "11  2018      tech    META        1.156989             0.832462\n",
      "12  2019      fmcg      KO        4.550919             0.607712\n",
      "13  2019      fmcg   NSRGY        2.458730             0.497690\n",
      "14  2019      fmcg     PEP        5.312255             0.553565\n",
      "15  2019      fmcg      PG        2.487680             0.486319\n",
      "16  2019      fmcg      UL        4.912523             0.440131\n",
      "17  2019  real_est     AMT        8.466511             0.707558\n",
      "18  2019  real_est     BAM       10.495303             0.263668\n",
      "19  2019  real_est     CCI        3.666412             0.655388\n",
      "20  2019  real_est     SPG       12.573231             0.819847\n",
      "21  2019  real_est      WY        2.006359             0.174245\n",
      "22  2019      tech    AAPL        3.741004             0.378178\n",
      "23  2019      tech    AMZN        3.629520             0.409900\n",
      "24  2019      tech    GOOG        1.369670             0.555805\n",
      "25  2019      tech    META        1.319849             0.819370\n",
      "26  2019      tech    MSFT        2.800313             0.659020\n",
      "27  2020      fmcg      KO        4.523343             0.593112\n",
      "28  2020      fmcg   NSRGY        2.714258             0.492554\n",
      "29  2020      fmcg     PEP        6.906348             0.549039\n",
      "30  2020      fmcg      PG        2.645537             0.503171\n",
      "31  2020      fmcg      UL        4.432006             0.434508\n",
      "32  2020  real_est     AMT       11.538659             0.723037\n",
      "33  2020  real_est     BAM       10.844540             0.151517\n",
      "34  2020  real_est     CCI        4.097664             0.666267\n",
      "35  2020  real_est     SPG       11.605747             0.807237\n",
      "36  2020  real_est      WY        1.868171             0.276819\n",
      "37  2020      tech    AAPL        4.957039             0.382332\n",
      "38  2020      tech    AMZN        3.438771             0.395678\n",
      "39  2020      tech    GOOG        1.436192             0.535784\n",
      "40  2020      tech    META        1.241843             0.805828\n",
      "41  2020      tech    MSFT        2.546921             0.677810\n",
      "42  2021      fmcg      KO        4.102526             0.602716\n",
      "43  2021      fmcg   NSRGY        2.618404             0.480187\n",
      "44  2021      fmcg     PEP        5.758088             0.533873\n",
      "45  2021      fmcg      PG        2.621671             0.514254\n",
      "46  2021      fmcg      UL        4.389724             0.423023\n",
      "47  2021  real_est     AMT       13.754212             0.713367\n",
      "48  2021  real_est     BAM        9.263279             0.181397\n",
      "49  2021  real_est     CCI        4.727537             0.685647\n",
      "50  2021  real_est     SPG       10.174862             0.810142\n",
      "51  2021  real_est      WY        1.639454             0.401725\n",
      "52  2021      tech    AAPL        5.563512             0.417794\n",
      "53  2021      tech    AMZN        3.042056             0.420325\n",
      "54  2021      tech    GOOG        1.427735             0.569398\n",
      "55  2021      tech    META        1.329183             0.807944\n",
      "56  2021      tech    MSFT        2.350755             0.689258\n",
      "57  2022      fmcg      PG        2.562148             0.476536\n",
      "58  2022      tech    AAPL        6.961537             0.433096\n",
      "59  2022      tech    MSFT        2.190679             0.684017\n",
      "______________________________________\n",
      "19000000000.0\n"
     ]
    }
   ],
   "source": [
    "# Calculate comp_type with the least profitability ratio\n",
    "pivot_lowest_profitability = df_ratios.pivot_table(index=[\"Year\",\"comp_type\",\"company\"],values=[\"leverage_ratio\",\"profitability_ratio\"],aggfunc=\"mean\").reset_index()\n",
    "\n",
    "print(pivot_lowest_profitability)\n",
    "print(\"______________________________________\")\n",
    "\n",
    "lowest = pivot_table_data.sort_index(ascending=False).iloc[0,0]\n",
    "print(lowest)"
   ]
  },
  {
   "cell_type": "code",
   "execution_count": 13,
   "id": "2735283f-1a65-444f-bcda-d0b84a9f9f5a",
   "metadata": {
    "executionCancelledAt": null,
    "executionTime": 51,
    "lastExecutedAt": 1736840986218,
    "lastExecutedByKernel": "89113c20-eaa7-4f96-aff6-bc243c7e487c",
    "lastScheduledRunId": null,
    "lastSuccessfullyExecutedCode": "# groupby to get lowest probability\ngroupby_lowest_profitability = df_ratios.groupby(\"comp_type\")[[\"profitability_ratio\"]].sum().sort_values(\"profitability_ratio\",ascending=True).iloc[0,0]\nprint(groupby_lowest_profitability)\n",
    "outputsMetadata": {
     "0": {
      "height": 38,
      "type": "stream"
     }
    }
   },
   "outputs": [
    {
     "name": "stdout",
     "output_type": "stream",
     "text": [
      "10.287916838537638\n"
     ]
    }
   ],
   "source": [
    "# groupby to get lowest probability\n",
    "groupby_lowest_profitability = df_ratios.groupby(\"comp_type\")[[\"profitability_ratio\"]].sum().sort_values(\"profitability_ratio\",ascending=True).iloc[0,0]\n",
    "print(groupby_lowest_profitability)\n"
   ]
  },
  {
   "cell_type": "code",
   "execution_count": 14,
   "id": "0a43adf4-be33-45b2-a7f7-556c4823b61e",
   "metadata": {
    "executionCancelledAt": null,
    "executionTime": 56,
    "lastExecutedAt": 1736840986274,
    "lastExecutedByKernel": "89113c20-eaa7-4f96-aff6-bc243c7e487c",
    "lastScheduledRunId": null,
    "lastSuccessfullyExecutedCode": "# Groupby df_ratios by comp_type and get the one with the lowest profitability ratio\ngroupby_comp_type = df_ratios.groupby(\"comp_type\").agg({\"profitability_ratio\":\"mean\",\"leverage_ratio\": \"mean\"})\nprint(groupby_comp_type.head())\nprint(\"__________________________\")\n\n\n# Select the name of the comp_type with the lowest profitability ratio\nlowest_profitability_ratio = groupby_comp_type.sort_values(by=\"profitability_ratio\", ascending=True)\nlowest_profitability_ratio = round(lowest_profitability_ratio.iloc[0,0],1)\nlowest_profitability = groupby_comp_type.index[0]\nprint(f\"The industry with the lowest profitability ratio is: {lowest_profitability} with {lowest_profitability_ratio}\")\nprint(\"__________________________\")\n\n\n# Select the name of the comp_type with the highest leverage ratio\nhighest_leverage_ratio = groupby_comp_type.sort_values(by=\"leverage_ratio\", ascending= False).iloc[0,1]\nhighest_leverage_ratio = round(highest_leverage_ratio,2)\nhighest_leverage = groupby_comp_type.sort_values(\"leverage_ratio\",ascending= False).index[0]\nprint(f\"The industry with the highest leverage ratio is: {highest_leverage} with {highest_leverage_ratio}\")\nprint(\"__________________________\")",
    "outputsMetadata": {
     "0": {
      "height": 227,
      "type": "stream"
     }
    }
   },
   "outputs": [
    {
     "name": "stdout",
     "output_type": "stream",
     "text": [
      "           profitability_ratio  leverage_ratio\n",
      "comp_type                                     \n",
      "fmcg                  0.514396        4.049784\n",
      "real_est              0.534848        7.353476\n",
      "tech                  0.572062        2.777448\n",
      "__________________________\n",
      "The industry with the lowest profitability ratio is: fmcg with 0.5\n",
      "__________________________\n",
      "The industry with the highest leverage ratio is: real_est with 7.35\n",
      "__________________________\n"
     ]
    }
   ],
   "source": [
    "# Groupby df_ratios by comp_type and get the one with the lowest profitability ratio\n",
    "groupby_comp_type = df_ratios.groupby(\"comp_type\").agg({\"profitability_ratio\":\"mean\",\"leverage_ratio\": \"mean\"})\n",
    "print(groupby_comp_type.head())\n",
    "print(\"__________________________\")\n",
    "\n",
    "\n",
    "# Select the name of the comp_type with the lowest profitability ratio\n",
    "lowest_profitability_ratio = groupby_comp_type.sort_values(by=\"profitability_ratio\", ascending=True)\n",
    "lowest_profitability_ratio = round(lowest_profitability_ratio.iloc[0,0],1)\n",
    "lowest_profitability = groupby_comp_type.index[0]\n",
    "print(f\"The industry with the lowest profitability ratio is: {lowest_profitability} with {lowest_profitability_ratio}\")\n",
    "print(\"__________________________\")\n",
    "\n",
    "\n",
    "# Select the name of the comp_type with the highest leverage ratio\n",
    "highest_leverage_ratio = groupby_comp_type.sort_values(by=\"leverage_ratio\", ascending= False).iloc[0,1]\n",
    "highest_leverage_ratio = round(highest_leverage_ratio,2)\n",
    "highest_leverage = groupby_comp_type.sort_values(\"leverage_ratio\",ascending= False).index[0]\n",
    "print(f\"The industry with the highest leverage ratio is: {highest_leverage} with {highest_leverage_ratio}\")\n",
    "print(\"__________________________\")"
   ]
  },
  {
   "cell_type": "code",
   "execution_count": 15,
   "id": "1be87aa2-491f-447c-ace6-4bbb9d41b262",
   "metadata": {
    "executionCancelledAt": null,
    "executionTime": 360,
    "lastExecutedAt": 1736840986634,
    "lastExecutedByKernel": "89113c20-eaa7-4f96-aff6-bc243c7e487c",
    "lastScheduledRunId": null,
    "lastSuccessfullyExecutedCode": "# Plotting the relationship between leverage and profitability ratio of real-estate companies\ndf_ratios_realestate = df_ratios[df_ratios[\"comp_type\"] == \"real_est\"]\nprint(df_ratios_realestate)\npivot_table_data_realestate = df_ratios_realestate.groupby(\"company\")[[\"profitability_ratio\",\"leverage_ratio\"]].mean()\nprint(pivot_table_data_realestate)\nsns.regplot(pivot_table_data_realestate, x= \"profitability_ratio\", y= \"leverage_ratio\")\n",
    "outputsMetadata": {
     "0": {
      "height": 616,
      "type": "stream"
     }
    }
   },
   "outputs": [
    {
     "name": "stdout",
     "output_type": "stream",
     "text": [
      "    Year comp_type company  Accounts Payable         Cash     Inventory  \\\n",
      "20  2018  real_est     BAM        6873000000   8390000000  6.989000e+09   \n",
      "21  2019  real_est     BAM        9583000000   6778000000  1.027200e+10   \n",
      "22  2020  real_est     BAM        9543000000   9933000000  1.036000e+10   \n",
      "23  2021  real_est     BAM       11258000000  12694000000  1.141500e+10   \n",
      "24  2018  real_est     AMT         130800000   1208700000           NaN   \n",
      "25  2019  real_est     AMT         148100000   1501200000           NaN   \n",
      "26  2020  real_est     AMT         139100000   1746300000           NaN   \n",
      "27  2021  real_est     AMT         272400000   1949900000           NaN   \n",
      "28  2018  real_est     CCI         313000000    277000000           NaN   \n",
      "29  2019  real_est     CCI         334000000    196000000           NaN   \n",
      "30  2020  real_est     CCI         230000000    232000000           NaN   \n",
      "31  2021  real_est     CCI         246000000    292000000           NaN   \n",
      "32  2018  real_est     SPG        1250161000    514335000           NaN   \n",
      "33  2019  real_est     SPG        1345882000    669373000           NaN   \n",
      "34  2020  real_est     SPG        1283225000   1011613000           NaN   \n",
      "35  2021  real_est     SPG        1411603000    533936000           NaN   \n",
      "36  2018  real_est      WY         222000000    334000000  3.890000e+08   \n",
      "37  2019  real_est      WY         246000000    139000000  4.160000e+08   \n",
      "38  2020  real_est      WY         204000000    495000000  4.430000e+08   \n",
      "39  2021  real_est      WY         281000000   1879000000  5.200000e+08   \n",
      "\n",
      "    Property Plant Equipment  Short Term Investments  Total Assets  \\\n",
      "20              151936000000                     NaN  256281000000   \n",
      "21              186059000000                     NaN  323969000000   \n",
      "22              196876000000                     NaN  343696000000   \n",
      "23              216354000000                     NaN  391003000000   \n",
      "24               11247100000                     NaN   33010400000   \n",
      "25               19441800000                     NaN   42801600000   \n",
      "26               20597900000                     NaN   47233500000   \n",
      "27               29009100000                     NaN   69887900000   \n",
      "28               13653000000                     NaN   32762000000   \n",
      "29               20799000000                     NaN   38457000000   \n",
      "30               21626000000                     NaN   38768000000   \n",
      "31               21951000000                     NaN   39040000000   \n",
      "32               24208131000                     NaN   30686223000   \n",
      "33               24413379000                     NaN   31231630000   \n",
      "34               23671173000                     NaN   34786846000   \n",
      "35               22815358000                     NaN   33777379000   \n",
      "36               14958000000                     NaN   17249000000   \n",
      "37               14429000000                     NaN   16406000000   \n",
      "38               14287000000                     NaN   16311000000   \n",
      "39               14098000000                     NaN   17652000000   \n",
      "\n",
      "    Total Current Assets  Total Current Liabilities    Total Liab  \\\n",
      "20           35980000000                19284000000  159131000000   \n",
      "21           40771000000                27752000000  207123000000   \n",
      "22           47749000000                34004000000  221054000000   \n",
      "23           60664000000                48353000000  256262000000   \n",
      "24            2385100000                 4689900000   26106000000   \n",
      "25            2553800000                 5487700000   36214700000   \n",
      "26            2905600000                 3655500000   42453000000   \n",
      "27            3729400000                 9067300000   60818300000   \n",
      "28            1229000000                 1506000000   21191000000   \n",
      "29            1204000000                 1920000000   27968000000   \n",
      "30            1104000000                 1969000000   29307000000   \n",
      "31            1254000000                 2026000000   30782000000   \n",
      "32            1653813000                 2869572000   26659104000   \n",
      "33            1853306000                 2990476000   28101319000   \n",
      "34            2573336000                 3463740000   31128608000   \n",
      "35            1850356000                 5002560000   29376654000   \n",
      "36            1602000000                 1939000000    8203000000   \n",
      "37            1611000000                 1006000000    8229000000   \n",
      "38            1609000000                  950000000    7580000000   \n",
      "39            3135000000                  954000000    6885000000   \n",
      "\n",
      "    Total Stockholder Equity  Cost Of Goods Sold  Gross Profit  \\\n",
      "20               25647000000         45519000000   12970000000   \n",
      "21               30868000000         52728000000   18881000000   \n",
      "22               31693000000         53177000000    9496000000   \n",
      "23               42210000000         64000000000   14182000000   \n",
      "24                5336100000          2177800000    5262300000   \n",
      "25                5055400000          2216800000    5363500000   \n",
      "26                4093500000          2227200000    5814300000   \n",
      "27                5081200000          2682000000    6674900000   \n",
      "28               11571000000          1844000000    3526000000   \n",
      "29               10489000000          1986000000    3777000000   \n",
      "30                9461000000          1949000000    3891000000   \n",
      "31                8258000000          1993000000    4347000000   \n",
      "32                3253933000          1007964000    4637324000   \n",
      "33                2483978000          1021644000    4649345000   \n",
      "34                2997381000           887154000    3715149000   \n",
      "35                3319689000           971064000    4143625000   \n",
      "36                9046000000          5592000000    1884000000   \n",
      "37                8177000000          5412000000    1142000000   \n",
      "38                8731000000          5447000000    2085000000   \n",
      "39               10767000000          6103000000    4098000000   \n",
      "\n",
      "    Operating Income  Total Operating Expenses  Total Revenue  leverage_ratio  \\\n",
      "20        9764000000               48725000000    58489000000        9.992631   \n",
      "21       13907000000               57702000000    71609000000       10.495303   \n",
      "22        9395000000               53278000000    62673000000       10.844540   \n",
      "23       14066000000               64116000000    78182000000        9.263279   \n",
      "24        2742300000                4697800000     7440100000        6.186241   \n",
      "25        2864400000                4715900000     7580300000        8.466511   \n",
      "26        3166200000                4875300000     8041500000       11.538659   \n",
      "27        3555800000                5801100000     9356900000       13.754212   \n",
      "28        1436000000                3934000000     5370000000        2.831389   \n",
      "29        1591000000                4172000000     5763000000        3.666412   \n",
      "30        1605000000                4235000000     5840000000        4.097664   \n",
      "31        2023000000                4317000000     6340000000        4.727537   \n",
      "32        2926299000                2718989000     5645288000        9.430502   \n",
      "33        2828587000                2842402000     5670989000       12.573231   \n",
      "34        1966609000                2635694000     4602303000       11.605747   \n",
      "35        2411090000                2703599000     5114689000       10.174862   \n",
      "36        1146000000                6330000000     7476000000        1.906810   \n",
      "37         160000000                6394000000     6554000000        2.006359   \n",
      "38        1578000000                5954000000     7532000000        1.868171   \n",
      "39        3541000000                6660000000    10201000000        1.639454   \n",
      "\n",
      "    profitability_ratio  \n",
      "20             0.221751  \n",
      "21             0.263668  \n",
      "22             0.151517  \n",
      "23             0.181397  \n",
      "24             0.707289  \n",
      "25             0.707558  \n",
      "26             0.723037  \n",
      "27             0.713367  \n",
      "28             0.656611  \n",
      "29             0.655388  \n",
      "30             0.666267  \n",
      "31             0.685647  \n",
      "32             0.821450  \n",
      "33             0.819847  \n",
      "34             0.807237  \n",
      "35             0.810142  \n",
      "36             0.252006  \n",
      "37             0.174245  \n",
      "38             0.276819  \n",
      "39             0.401725  \n",
      "         profitability_ratio  leverage_ratio\n",
      "company                                     \n",
      "AMT                 0.712812        9.986406\n",
      "BAM                 0.204583       10.148938\n",
      "CCI                 0.665978        3.830751\n",
      "SPG                 0.814669       10.946086\n",
      "WY                  0.276199        1.855198\n"
     ]
    },
    {
     "data": {
      "text/plain": [
       "<Axes: xlabel='profitability_ratio', ylabel='leverage_ratio'>"
      ]
     },
     "execution_count": 15,
     "metadata": {},
     "output_type": "execute_result"
    },
    {
     "data": {
      "image/png": "[encoded data removed]",
      "text/plain": [
       "<Figure size 640x480 with 1 Axes>"
      ]
     },
     "metadata": {},
     "output_type": "display_data"
    }
   ],
   "source": [
    "# Plotting the relationship between leverage and profitability ratio of real-estate companies\n",
    "df_ratios_realestate = df_ratios[df_ratios[\"comp_type\"] == \"real_est\"]\n",
    "print(df_ratios_realestate)\n",
    "pivot_table_data_realestate = df_ratios_realestate.groupby(\"company\")[[\"profitability_ratio\",\"leverage_ratio\"]].mean()\n",
    "print(pivot_table_data_realestate)\n",
    "sns.regplot(pivot_table_data_realestate, x= \"profitability_ratio\", y= \"leverage_ratio\")\n"
   ]
  },
  {
   "cell_type": "code",
   "execution_count": 16,
   "id": "e1878914-a075-4ac9-b755-42fb4fcaf289",
   "metadata": {
    "executionCancelledAt": null,
    "executionTime": 44,
    "lastExecutedAt": 1736840986678,
    "lastExecutedByKernel": "89113c20-eaa7-4f96-aff6-bc243c7e487c",
    "lastScheduledRunId": null,
    "lastSuccessfullyExecutedCode": "relationship = \"positive\""
   },
   "outputs": [],
   "source": [
    "relationship = \"positive\""
   ]
  }
 ],
 "metadata": {
  "colab": {
   "name": "Welcome to DataCamp Workspaces.ipynb",
   "provenance": []
  },
  "kernelspec": {
   "display_name": "Python 3 (ipykernel)",
   "language": "python",
   "name": "python3"
  },
  "language_info": {
   "codemirror_mode": {
    "name": "ipython",
    "version": 3
   },
   "file_extension": ".py",
   "mimetype": "text/x-python",
   "name": "python",
   "nbconvert_exporter": "python",
   "pygments_lexer": "ipython3",
   "version": "3.11.9"
  }
 },
 "nbformat": 4,
 "nbformat_minor": 5
}
